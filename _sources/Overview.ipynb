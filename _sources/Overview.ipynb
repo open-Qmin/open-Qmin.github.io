{
 "cells": [
  {
   "cell_type": "markdown",
   "id": "3bececff",
   "metadata": {},
   "source": [
    "# open-Qmin\n",
    "*Fast, scalable, customizable software for Landau-de Gennes numerical modeling of nematic liquid crystals and their topological defects*"
   ]
  },
  {
   "cell_type": "markdown",
   "id": "bdafb124",
   "metadata": {},
   "source": [
    "## Overview \n",
    "\n",
    "[Open-Qmin](https://github.com/sussmanLab/open-Qmin.git) is an open-source code base for numerical modeling of nematic liquid crystals and their topological defects at equilibrium, by relaxation of a finite-difference lattice discretization of the Landau-de Gennes free energy. This project aims to be:\n",
    "\n",
    "* **Fast:** Allows utilization of GPU or CPU resources, and uses efficient minimization routines like the Fast Inertial Relaxation Engine (FIRE).\n",
    "\n",
    "* **Scalable:** Automates MPI parallelization, allowing users to exploit as many CPU cores as they have available in order to access supra-micron scales often closer to experimental dimensions.\n",
    "\n",
    "* **Customizable:** Users can specify boundary conditions, external fields, and material properties, usually without requiring recompilation. Common boundaries like planar walls or colloidal inclusions can be added with provided recipes; or users can define custom boundary geometries site-by-site.\n",
    "\n",
    "A [peer-reviewed article in *Frontiers in Physics*](https://www.frontiersin.org/articles/10.3389/fphy.2019.00204/full) describes open-Qmin's theoretical approach, numerical implementation, and basic usage. Some information is more up-to-date in the documentation you're reading here."
   ]
  },
  {
   "cell_type": "markdown",
   "id": "1225a189",
   "metadata": {
    "tags": [
     "remove-cell"
    ]
   },
   "source": [
    "## Visualization\n",
    "\n",
    "A Python-based 3D visualization environment called \"openViewMin\" is under development as a visualization companion to open-Qmin. It will supersede the visualization routines described in the *Frontiers in Physics* article. This documentation will make use of open-ViewMin to examine example results from open-Qmin simulations. "
   ]
  },
  {
   "cell_type": "markdown",
   "id": "804ac40d",
   "metadata": {},
   "source": [
    "## Citation\n",
    "\n",
    "If you use open-Qmin for a publication or project, please cite:\n",
    "\n",
    "> Daniel M. Sussman and Daniel A. Beller. \"Fast, scalable, and interactive software for Landau-de Gennes numerical modeling of nematic topological defects.\" *Frontiers in Physics* **7** 204 (2019). [DOI: 10.3389/fphy.2019.00204](https://doi.org/10.3389/fphy.2019.00204)"
   ]
  },
  {
   "cell_type": "markdown",
   "id": "7e7e2a7b-918e-4867-91d3-d8d6ee51eaf9",
   "metadata": {},
   "source": [
    "## Other peer-reviewed papers using open-Qmin\n",
    "\n",
    "* C. Long, X. Tang, R. L. B. Selinger, and J. V. Selinger. \"Geometry and mechanics of disclination lines in 3D nematic liquid crystals.\" *Soft Matter* **17**: 2265 (2021). [DOI: 10.1039/D0SM01899F](https://doi.org/10.1039/D0SM01899F)\n",
    "\n",
    "* A. Modin, B. Ash, K. Ishimoto, R. L. Leheny, F. Serra, and H. Aharoni. \"Tunable three-dimensional architecture of nematic disclination lines.\" *Proceedings of the National Academy of Sciences* **120**: e2300833120 (2023). [DOI: 10.1073/pnas.2300833120](https://doi.org/10.1073/pnas.2300833120)\n",
    "\n",
    "* G. Park, Y.-S. Choi, S. J. Kwon, D. K. Yoon. \"Planar Spin Glass with Topologically Protected Mazes in the Liquid Crystal Targeting for Reconfigurable Micro Security Media.\" *Advanced Materials* **36**: 2303077 (2023). [DOI: 10.1002/adma.202303077](https://doi.org/10.1002/adma.202303077)\n",
    "\n",
    "* H. S. Yun,  Z. C. Meijs, G. Park,  Y. Fu, L. Isa, D. K. Yoon. \"Controlling liquid crystal boojum defects on fixed microparticle arrays via capillarity-assisted particles assembly.\" *Journal of Colloid and Interface Science* **645**: 115 (2023). [DOI: 10.1016/j.jcis.2023.04.100](https://doi.org/10.1016/j.jcis.2023.04.100)"
   ]
  },
  {
   "cell_type": "markdown",
   "id": "f26f6e7d",
   "metadata": {},
   "source": [
    "## Authors\n",
    "\n",
    "open-Qmin is developed as a collaboration between the research groups of [Daniel Sussman](https://www.dmsussman.org/) (Emory University) and [Daniel Beller](https://bellerphysics.gitlab.io/) (Johns Hopkins University). We very much welcome users to contribute to the project and to tell us how you're using open-Qmin and how it might be improved."
   ]
  },
  {
   "cell_type": "markdown",
   "id": "5a51f1bd",
   "metadata": {},
   "source": [
    "## Acknowledgements\n",
    "\n",
    "The first release of open-Qmin was supported by\n",
    "\n",
    "* National Science Foundation Grant POLS-1607416\n",
    "* Simons Foundation Grant 454947\n",
    "* NVIDIA Corporation\n",
    "* XSEDE Grant NSF-TG-PHY190027\n",
    "* The Multi-Envrionment Computer for Exploration and Discovery (MERCED) cluster at UC Merced, funded by NSF grant ACI-1429783\n",
    "\n",
    "Ongoing development is supported by\n",
    "\n",
    "* National Science Foundation Grant DMR-2046063\n"
   ]
  }
 ],
 "metadata": {
  "kernelspec": {
   "display_name": "Python 3 (ipykernel)",
   "language": "python",
   "name": "python3"
  },
  "language_info": {
   "codemirror_mode": {
    "name": "ipython",
    "version": 3
   },
   "file_extension": ".py",
   "mimetype": "text/x-python",
   "name": "python",
   "nbconvert_exporter": "python",
   "pygments_lexer": "ipython3",
   "version": "3.10.0"
  }
 },
 "nbformat": 4,
 "nbformat_minor": 5
}
