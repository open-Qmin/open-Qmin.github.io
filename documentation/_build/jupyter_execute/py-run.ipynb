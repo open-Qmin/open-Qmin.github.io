{
 "cells": [
  {
   "cell_type": "markdown",
   "id": "0ae47b24-a052-4add-ac75-1358f5f8da96",
   "metadata": {},
   "source": [
    "# Running openQmin (Python interface)"
   ]
  },
  {
   "cell_type": "markdown",
   "id": "423872ca-41f0-478d-b98d-96558344f318",
   "metadata": {},
   "source": [
    "Using *tools/runHelper.py*, you can define command-line parameters through a Python dictionary `runHelper.params`. These, along with any default parameters you didn't change, are converted by `runHelper.get_runcmd()` into a command-line string that calls *build/openQmin.out*.\n",
    "\n",
    "The dictionary keys of `runHelper.params` are the same as the long forms (appearing after the `--`s) of the command-line flags seen when you run `build/openQmin.out --help`, with the following exceptions:\n",
    "* `help` itself is not a key in `runHelper.params`\n",
    "* Parameters `'whole_Lx'`, `'whole_Ly'`, and `'whole_Lz'`, which define the system size **before** subdivision over MPI ranks, override `'Lx'`, `'Ly'`, and `'Lz'` by default. If you want to use `'Lx'`, `'Ly'`, `'Lz'` instead (which give the system size on each rank), you can pass `do_partition=False` to `runHelper.get_runcmd()`.\n",
    "\n",
    "In the example below, we'll make use of an example boundaryFile that we created in the page on [Boundary conditions (Python interface)](py-boundaries) and the example initialConfigurationFiles that we created in the page on [Initialization (Python interface)](py-initialization). \n",
    "\n",
    "Notice that the main openQmin directory path, assigned to `runHelper.directory`, is automatically prepended to the filepaths for imported and exported data. This directory path should be either an absolute path or relative to where you'll be running the command."
   ]
  },
  {
   "cell_type": "code",
   "execution_count": 1,
   "id": "c73992a3-a776-4042-a896-b9708c6a29de",
   "metadata": {},
   "outputs": [
    {
     "name": "stdout",
     "output_type": "stream",
     "text": [
      "mpirun -n 3 ../build/openQmin.out --initializationSwitch 0 --GPU -1 --phaseConstantA -0.172 --phaseConstantB -2.12 --phaseConstantC 1.73 --deltaT 0.0005 --fTarget 1e-12 --iterations 500 --randomSeed -1 --L1 4.64 --L2 4.64 --L3 4.64 --L4 4.64 --L6 4.64 --boxL 50 --Lx 16 --Ly 50 --Lz 50 --initialConfigurationFile ../my_init_file --boundaryFile ../ceiling_and_wavy_floor.txt --saveFile ../data/my_example_run --linearSpacedSaving -1 --logSpacedSaving -1 --stride 1 --hFieldX 0 --hFieldY 0 --hFieldZ 0 --hFieldMu0 1 --hFieldChi 1 --hFieldDeltaChi 0.5 --eFieldX 0 --eFieldY 0 --eFieldZ 0 --eFieldEpsilon0 1 --eFieldEpsilon 1 --eFieldDeltaEpsilon 0.5\n"
     ]
    }
   ],
   "source": [
    "from sys import path\n",
    "path.append(\"../tools/\")  # path to runHelper.py\n",
    "\n",
    "import runHelper\n",
    "\n",
    "runHelper.directory = \"../\" # path to openQmin main directory\n",
    "runHelper.mpi_num_processes = 3  # set to 1 for non-MPI run\n",
    "\n",
    "runHelper.params[\"boundaryFile\"] = \"ceiling_and_wavy_floor.txt\"\n",
    "runHelper.params[\"initialConfigurationFile\"] = \"my_init_file\"\n",
    "\n",
    "# choose a location and filename-prefix for this run's results\n",
    "runHelper.params[\"saveFile\"] = \"data/my_example_run\"\n",
    "runHelper.params[\"iterations\"] = 500  # max number of minimization timesteps\n",
    "\n",
    "# system size BEFORE subdivision across MPI ranks:\n",
    "runHelper.params[\"whole_Lx\"] = 50\n",
    "runHelper.params[\"whole_Ly\"] = 50\n",
    "runHelper.params[\"whole_Lz\"] = 50\n",
    "\n",
    "runcmd = runHelper.get_runcmd()  # generate command-line string\n",
    "print(runcmd)"
   ]
  },
  {
   "cell_type": "markdown",
   "id": "d8ea4d35-1c67-4463-abeb-c59bffe1e3cf",
   "metadata": {},
   "source": [
    "We can run openQmin with these options by any of the following routes:\n",
    "\n",
    "* Call `runHelper.run()`, which executes the result of `runHelper.get_runcmd()`\n",
    "* Copy and paste the string into a terminal\n",
    "* Use the `runcmd` string in a Python script via `import os; os.system(runcmd)`\n",
    "* Run as shell command in a Jupyter notebook with `!{runcmd}`"
   ]
  },
  {
   "cell_type": "code",
   "execution_count": 2,
   "id": "6d7caec9-7d2e-4a9f-9397-9cc5c1f3b7e7",
   "metadata": {},
   "outputs": [
    {
     "name": "stderr",
     "output_type": "stream",
     "text": [
      "--------------------------------------------------------------------------\n",
      "There are not enough slots available in the system to satisfy the 3\n",
      "slots that were requested by the application:\n",
      "\n",
      "  ../build/openQmin.out\n",
      "\n",
      "Either request fewer slots for your application, or make more slots\n",
      "available for use.\n",
      "\n",
      "A \"slot\" is the Open MPI term for an allocatable unit where we can\n",
      "launch a process.  The number of slots available are defined by the\n",
      "environment in which Open MPI processes are run:\n",
      "\n",
      "  1. Hostfile, via \"slots=N\" clauses (N defaults to number of\n",
      "     processor cores if not provided)\n",
      "  2. The --host command line parameter, via a \":N\" suffix on the\n",
      "     hostname (N defaults to 1 if not provided)\n",
      "  3. Resource manager (e.g., SLURM, PBS/Torque, LSF, etc.)\n",
      "  4. If none of a hostfile, the --host command line parameter, or an\n",
      "     RM is present, Open MPI defaults to the number of processor cores\n",
      "\n",
      "In all the above cases, if you want Open MPI to default to the number\n",
      "of hardware threads instead of the number of processor cores, use the\n",
      "--use-hwthread-cpus option.\n",
      "\n",
      "Alternatively, you can use the --oversubscribe option to ignore the\n",
      "number of available slots when deciding the number of processes to\n",
      "launch.\n",
      "--------------------------------------------------------------------------\n"
     ]
    }
   ],
   "source": [
    "runHelper.run()"
   ]
  },
  {
   "cell_type": "markdown",
   "id": "9a6ab513-7599-4b7f-a367-f2bc97189eea",
   "metadata": {},
   "source": [
    "Let's take a look at the result using openViewMin."
   ]
  },
  {
   "cell_type": "code",
   "execution_count": 3,
   "id": "659edfbe-2987-4286-8cad-be5c1a7be64a",
   "metadata": {
    "tags": [
     "hide-cell"
    ]
   },
   "outputs": [
    {
     "name": "stdout",
     "output_type": "stream",
     "text": [
      "zsh:1: parse error near `-m'\r\n"
     ]
    }
   ],
   "source": [
    "# Install openViewMin dependencies as needed\n",
    "!{sys.executable} -m pip install pandas \"PyQt5<5.14\" pyvistaqt tqdm imageio-ffmpeg >> /dev/null"
   ]
  },
  {
   "cell_type": "code",
   "execution_count": 4,
   "id": "71c6c845-9594-47cb-a7f1-770c03acf6fe",
   "metadata": {},
   "outputs": [
    {
     "ename": "NameError",
     "evalue": "name 'sys' is not defined",
     "output_type": "error",
     "traceback": [
      "\u001b[0;31m---------------------------------------------------------------------------\u001b[0m",
      "\u001b[0;31mNameError\u001b[0m                                 Traceback (most recent call last)",
      "\u001b[0;32m/var/folders/pt/1x9c1p2s02ggqr8yh1p00ln40000gn/T/ipykernel_46505/268042219.py\u001b[0m in \u001b[0;36m<module>\u001b[0;34m\u001b[0m\n\u001b[1;32m      1\u001b[0m \u001b[0;31m# replace with your path to openViewMin:\u001b[0m\u001b[0;34m\u001b[0m\u001b[0;34m\u001b[0m\u001b[0m\n\u001b[0;32m----> 2\u001b[0;31m \u001b[0msys\u001b[0m\u001b[0;34m.\u001b[0m\u001b[0mpath\u001b[0m\u001b[0;34m.\u001b[0m\u001b[0mappend\u001b[0m\u001b[0;34m(\u001b[0m\u001b[0;34m\"../../openviewmin/\"\u001b[0m\u001b[0;34m)\u001b[0m\u001b[0;34m\u001b[0m\u001b[0;34m\u001b[0m\u001b[0m\n\u001b[0m\u001b[1;32m      3\u001b[0m \u001b[0;34m\u001b[0m\u001b[0m\n\u001b[1;32m      4\u001b[0m \u001b[0;32mimport\u001b[0m \u001b[0mopenViewMin\u001b[0m\u001b[0;34m\u001b[0m\u001b[0;34m\u001b[0m\u001b[0m\n\u001b[1;32m      5\u001b[0m \u001b[0;32mimport\u001b[0m \u001b[0mglob\u001b[0m\u001b[0;34m\u001b[0m\u001b[0;34m\u001b[0m\u001b[0m\n",
      "\u001b[0;31mNameError\u001b[0m: name 'sys' is not defined"
     ]
    }
   ],
   "source": [
    "# replace with your path to openViewMin:\n",
    "sys.path.append(\"../../openviewmin/\")\n",
    "\n",
    "import openViewMin\n",
    "import glob\n",
    "\n",
    "# collect all files from this run\n",
    "savedFiles = glob.glob(\"../data/my_example_run*\") \n",
    "# generate plot off-screen\n",
    "nplot = openViewMin.NematicPlot(savedFiles, off_screen=True, window_size=(800, 800))\n",
    "# rotate plane of director glyphs to y-normal\n",
    "nplot.update_filter(\"director_plane\", {\"normal\":[0,1,0]}, update_self_actor=True)\n",
    "# reduce lighting intensity a bit\n",
    "nplot.set_lights_intensity(0.6)\n",
    "# display in notebook\n",
    "display(nplot.to_pythreejs())\n",
    "nplot.close()"
   ]
  }
 ],
 "metadata": {
  "kernelspec": {
   "display_name": "Python 3 (ipykernel)",
   "language": "python",
   "name": "python3"
  },
  "language_info": {
   "codemirror_mode": {
    "name": "ipython",
    "version": 3
   },
   "file_extension": ".py",
   "mimetype": "text/x-python",
   "name": "python",
   "nbconvert_exporter": "python",
   "pygments_lexer": "ipython3",
   "version": "3.9.9"
  }
 },
 "nbformat": 4,
 "nbformat_minor": 5
}