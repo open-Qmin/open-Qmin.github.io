{
 "cells": [
  {
   "cell_type": "markdown",
   "id": "91ca0406-c986-4702-aee7-257e42a46830",
   "metadata": {},
   "source": [
    "# Usage with MPI"
   ]
  },
  {
   "cell_type": "code",
   "execution_count": null,
   "id": "d2f036f8-e433-4c9f-85bf-e17d1f4fe21b",
   "metadata": {},
   "outputs": [],
   "source": []
  }
 ],
 "metadata": {
  "kernelspec": {
   "display_name": "Python 3 (ipykernel)",
   "language": "python",
   "name": "python3"
  },
  "language_info": {
   "codemirror_mode": {
    "name": "ipython",
    "version": 3
   },
   "file_extension": ".py",
   "mimetype": "text/x-python",
   "name": "python",
   "nbconvert_exporter": "python",
   "pygments_lexer": "ipython3",
   "version": "3.9.9"
  }
 },
 "nbformat": 4,
 "nbformat_minor": 5
}