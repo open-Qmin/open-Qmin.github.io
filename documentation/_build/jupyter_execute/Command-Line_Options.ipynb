{
 "cells": [
  {
   "cell_type": "markdown",
   "id": "e7596ff1-7c86-4535-9524-183bc5ba4e9a",
   "metadata": {},
   "source": [
    "# Command-Line Options"
   ]
  },
  {
   "cell_type": "code",
   "execution_count": 1,
   "id": "9f83032c-5eb4-4cef-84fd-bd9f40f1b478",
   "metadata": {
    "tags": [
     "remove-output"
    ]
   },
   "outputs": [],
   "source": [
    "##    VARIABLE_NAME = DEFAULT_VALUE, # <VARIABLE_TYPE> DESCRIPTION\n",
    "\n",
    "initializationSwitch = 0, # <int> an integer controlling program branch\n",
    "GPU = -1, # <int> which gpu to use\n",
    "phaseConstantA = -0.172, # <float> value of phase constant A\n",
    "phaseConstantB = -2.12, # <float> value of phase constant B\n",
    "phaseConstantC = 1.73, # <float> value of phase constant C\n",
    "deltaT = 0.0005, # <float> step size for minimizer\n",
    "fTarget = 1e-12, # <float> target minimization threshold for norm of residual forces\n",
    "iterations = 100, # <int> maximum number of minimization steps\n",
    "randomSeed = -1, # <int> seed for reproducible random number generation\n",
    "L1 = 4.64, # <float> value of L1 term\n",
    "L2 = 4.64, # <float> value of L2 term\n",
    "L3 = 4.64, # <float> value of L3 term\n",
    "L4 = 4.64, # <float> value of L4 term\n",
    "L6 = 4.64, # <float> value of L6 term\n",
    "boxL = 50, # <int> number of lattice sites for cubic box\n",
    "Lx = 50, # <int> number of lattice sites in x direction\n",
    "Ly = 50, # <int> number of lattice sites in y direction\n",
    "Lz = 50, # <int> number of lattice sites in z direction\n",
    "initialConfigurationFile = \"\", # <string> carefully prepared file of the initial state of all lattice sites\n",
    "spatiallyVaryingFieldFile = \"\", # <string> carefully prepared file containing information on a spatially varying external H field\n",
    "boundaryFile = \"\", # <string> carefully prepared file of boundary sites\n",
    "saveFile = \"\", # <string> the base name to save the post-minimization configuration\n",
    "linearSpacedSaving = -1, # <int> save a file every x minimization steps\n",
    "logSpacedSaving = -1, # <float> save a file every x^j for integer j\n",
    "stride = 1, # <int> stride of the saved lattice sites\n",
    "hFieldX = 0, # <float> x component of external H field\n",
    "hFieldY = 0, # <float> y component of external H field\n",
    "hFieldZ = 0, # <float> z component of external H field\n",
    "hFieldMu0 = 1, # <float> mu0 for external magenetic field\n",
    "hFieldChi = 1, # <float> Chi for external magenetic field\n",
    "hFieldDeltaChi = 0.5, # <float> mu0 for external magenetic field\n",
    "eFieldX = 0, # <float> x component of external E field\n",
    "eFieldY = 0, # <float> y component of external E field\n",
    "eFieldZ = 0, # <float> z component of external E field\n",
    "eFieldEpsilon0 = 1, # <float> epsilon0 for external electric field\n",
    "eFieldEpsilon = 1, # <float> Epsilon for external electric field\n",
    "eFieldDeltaEpsilon = 0.5, # <float> DeltaEpsilon for external electric field"
   ]
  },
  {
   "cell_type": "markdown",
   "id": "ae3ce3fe-d5c0-4d74-8da1-d9ca6c38adc4",
   "metadata": {},
   "source": [
    "## System setup\n",
    "\n",
    "For a cubic simulation box, you can use `--boxL <int>` or `-l <int>`.\n",
    "\n",
    "For simulation boxes with unequal dimensions, you will have to separately specify `--Lx <int> --Ly <int> --Lz <int>`.\n",
    "\n",
    "### Boundaries \n",
    "\n",
    "By default, the simulation box includes no boundaries, and periodic boundary conditions are applied at the box walls. To add boundaries such as walls and colloidal particles, one option is to uncomment lines from \"ddObjectsToOpenQmin.h\", edit as necessary, and recompile openQmin. \n",
    "\n",
    "Another option, which does not require recompilation, is to define the boundaries' geometries and anchoring conditions in a separate file and import this using `--boundaryFile <filename>`. See [here](Boundary-conditions.html#preparing-a-custom-boundary-file) for tips on how to prepare this file. "
   ]
  },
  {
   "cell_type": "markdown",
   "id": "79584100-e3f6-427f-b59a-9f812c541415",
   "metadata": {},
   "source": [
    "## Initialization\n",
    "\n",
    "Two command-line flags control initialization: `-z` and `--initialConfigurationFile`. The `-z` flag allows you to set the variable `initializationSwitch` in \"setInitialConditions.h\"; users can make changes in that file and recompile openQmin.cc as needed. The \n",
    "* `-z 0 ` the default behavior: for each lattice site pick a random director uniformly over the unit sphere and make a Q tensor corresponding to it (using magnitude of the order parameter S0)\n",
    "* `-z -1` use the loadState function to load an initial configuration from a saved file. In order to correctly load mpi-based jobs, the file names must be in the specific format of “fileName_xAyBzC.txt”, where A,B,and C are integers corresponding to how openQmin splits up multirank jobs (so, even if you are not using MPI, your file must be named “myFileName_x0y0z0.txt”, and you would load the file with the command “sim->loadState(“myFileName”);”. Furthermore, the format of the file must be precisely the text format that openQmin saves files as.\n",
    ":::{note}\n",
    "Using EITHER `-z -1` or `--initialConfigurationFile myfilename` will trigger this initialization path. With `-z -1` the program looks to \"setIninitialConditions.h\" for the initial state.\n",
    ":::\n",
    "* `-z 1` pick a single random director and make a uniform nematic texture in that direction\n",
    "* `-z 2` choose a specific uniform texture to initialize. (Modify the components of the variable `targetDirector` in \"setInitialConditions.h\", then recompile.)\n",
    "* `-z 3` define a function, $f(x,y,z)$, that contols both the initial director and the initial $S_0$ parameter to which to set the system. (Modify the function `localDirectors` in \"setInitialConditions.h\" to the desired functions of position, then recompile.)"
   ]
  },
  {
   "cell_type": "markdown",
   "id": "bcc493e5-a954-4b42-900b-aec72857babf",
   "metadata": {},
   "source": [
    "## Minimization\n",
    "\n",
    "### Choosing CPU or GPU \n",
    "\n",
    "If you have one GPU and want to use it, add the flag `--GPU 0` or `-g 0`. \n",
    "\n",
    "If you have multiple GPUs, specify which GPU to use via `--GPU <int>` or `-g <int>`.\n",
    "\n",
    "If you want to use CPU resources, leave the default value `--GPU -1` or `-g -1`. \n",
    "\n",
    "\n",
    "### Minimizer step size\n",
    "\n",
    "`--deltaT <float>` or `-e <float>` sets the minimizer's step size. The default value is 0.005.\n",
    "\n",
    "### Stopping conditions \n",
    "\n",
    "The minimizer seeks the equilibrium configuration where the net force at each site is zero. We set a small value for the summed norm of residual forces, at which we are near enough to equilibrium to quit successfully, using `--fTarget <float>`, with default value  1e-12.\n",
    "\n",
    "However, the minimizer will stop before reaching this force threshold if the number of minimization steps reaches the value set by `--iterations <int>` or `-i <int>`, with defalt value 100. "
   ]
  },
  {
   "cell_type": "markdown",
   "id": "b98360d6-809a-48fc-9e9b-e47ec7766ea2",
   "metadata": {},
   "source": [
    "## Material constants"
   ]
  },
  {
   "cell_type": "markdown",
   "id": "7bc87feb-3682-45be-9b2a-fe0a4987ba59",
   "metadata": {},
   "source": [
    "The non-dimensionalized coefficients $A$, $B$, $C$ of the Landau-de Gennes [bulk free energy density](Landau-de-Gennes.html#bulk-free-energy) are respectively set via \n",
    "\n",
    "* `--phaseConstantA <float>` or `-a <float>`\n",
    "* `--phaseConstantB <float>` or `-b <float>`\n",
    "* `--phaseConstantC <float>` or `-c <float>`\n",
    "\n",
    ":::{note}\n",
    "Generally, $A$ and (typically) $B$ will be negative. The va\n",
    ":::\n",
    "\n",
    "The non-dimensionalized distortion coefficients $L_i$, $i=1,2,3,4,6$ of the Landau-de Gennes [distortion free energy density](Landau-de-Gennes.html#distortion-free-energy) are respectively set via \n",
    "\n",
    "* `--L1 <float>`\n",
    "* `--L2 <float>`\n",
    "* `--L3 <float>`\n",
    "* `--L4 <float>`\n",
    "* `--L6 <float>`"
   ]
  },
  {
   "cell_type": "markdown",
   "id": "f4c4edd7-984d-4cbc-af2c-85a44838bff1",
   "metadata": {},
   "source": [
    "## Output\n",
    "\n",
    "Choose a unique name (including relative filepath but *excluding* the filetype suffix such as \".txt\") to save the results of a given run, using \n",
    "`--saveFile <string>`. For example, `--saveFile data/my_example_run` will cause results to be saved in \"data/my_example_run_x0y0z0.txt\", [etc. for MPI](Command-Line_Usage.html#specifying-mpi-jobs).\n",
    "\n",
    "\n",
    "### Saving time sequences\n",
    "\n",
    "By default, openQmin saves the system state only from the last step of the minimization. To keep a record of the minimization process, you can use `--linearSpacedSaving <N (int)>` to save to unique files every $N$ steps. For example, `--saveFile data/my_example_run --linearSpacedSaving 10` will create files \"data/my_example_run_t0_x0y0z0.txt\", \"data/my_example_run_t10_x0y0z0.txt\", \"data/my_example_run_t20_x0y0z0.txt\", etc.\n",
    "\n",
    "Alternatively, you may wish to save the state at smaller time intervals early in the minimization but at longer time intervals later on (where the \"dynamics\" generally slows down). For this purpose, you can use `logSpacedSaving <F (float)>` which will save a unique file whenever the timestep $t$ reaches or exceeds $F^j$ for $j=0,1,2,3,\\dots$.\n",
    "\n",
    "### Data stride\n",
    "\n",
    "For larger systems, saving the state of every site can be expensive in terms of computing time, storage space, and analysis later on. To save the state of only every $n$ sites along *each* direction, use `--stride <n (int)>`. "
   ]
  },
  {
   "cell_type": "markdown",
   "id": "c1a357fa-bfac-416b-8bac-d72e56f44801",
   "metadata": {},
   "source": [
    "## Random number generation\n",
    "\n",
    "By default, the executable compiled from openQmin.cpp will use a reproducible random number generator with a fixed initial seed. To use a random number as the seed to the random number generator, use the -r flag, e.g.:\n",
    "`build/openQmin.out -i 100 -r`.\n",
    "\n",
    "To specify a specific seed to use (so that you can reproducibly study an ensemble of different random conditions, for example), use the `--randomSeed` command line option, e.g.:\n",
    "`build/openQmin.out -i 100 --randomSeed 123456234`."
   ]
  }
 ],
 "metadata": {
  "kernelspec": {
   "display_name": "Python 3 (ipykernel)",
   "language": "python",
   "name": "python3"
  },
  "language_info": {
   "codemirror_mode": {
    "name": "ipython",
    "version": 3
   },
   "file_extension": ".py",
   "mimetype": "text/x-python",
   "name": "python",
   "nbconvert_exporter": "python",
   "pygments_lexer": "ipython3",
   "version": "3.9.9"
  }
 },
 "nbformat": 4,
 "nbformat_minor": 5
}