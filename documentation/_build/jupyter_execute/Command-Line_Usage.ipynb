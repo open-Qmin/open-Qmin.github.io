{
 "cells": [
  {
   "cell_type": "markdown",
   "id": "8c5ea390-45b9-4c35-b6cc-82cb25e0089f",
   "metadata": {},
   "source": [
    "# Command-Line Usage\n",
    "\n",
    "## To use the GUI\n",
    "`build/openQminGUI.out`\n",
    "    \n",
    "## Running on the command line\n",
    "\n",
    "Run `build/openQmin.out` with any of the available command-line options, which are described [here](Command-Line_Options) in detail; for a brief summary you can type `build/openQmin.out --help`.\n",
    "    \n",
    "Some examples:\n",
    "* To run 100 FIRE minimization steps on a cubic lattice of side length 250:  \n",
    "`build/openQmin.out -i 100 -l 250`\n",
    "* To do the same thing but using a GPU in slot 0:  \n",
    "`build/openQmin.out -i 100 -l 250 -g 0`\n",
    "* To load a file, e.g. \"assets/boundaryInput.txt\"  with custom boundaries prepared for a cubic lattice of side length 80  \n",
    "`build/openQmin.out -i 100 -l 80 --boundaryFile assets/boundaryInput.txt`\n",
    "* To do the above, but also save the post-minimization state:  \n",
    "`./build/openQmin.out -i 80 --boundaryFile assets/boundaryInput.txt -l 80 --saveFile data/saveTesting`\n",
    "\n",
    ":::{note}\n",
    "For `--boundaryFile` and `--saveFile`, the file path is relative to your present working directory.\n",
    ":::\n",
    "\n",
    "### Specifying random number generation\n",
    "\n",
    "By default, the executable compiled from openQmin.cpp will use a reproducible random number generator with a fixed initial seed. To use a random number as the seed to the random number generator, use the -r flag, e.g.:\n",
    "`build/openQmin.out -i 100 -l 250 -r`\n",
    "\n",
    "To specify a specific seed to use (so that you can reproducibly study an ensemble of different random conditions, for example), use the `--randomSeed` command line option, e.g.:\n",
    "`build/openQmin.out -i 100 -l 250 --randomSeed 123456234`\n",
    "\n",
    "\n",
    "### Specifying MPI jobs\n",
    "\n",
    "As noted above, the `-l` command line flag can be used to specify the side length of a cubic simulation\n",
    "domain (other flags exist if you want the domain to be a rectangular prism). **When using MPI, the default behavior is to take the command line size to specify the domain size ON EVERY MPI RANK.** (One could imagine an alternate default behavior in which the command line specified the TOTAL size of the\n",
    "simulation domain, which was then divided among the different processors.)\n",
    "\n",
    "So, for example, the command:  \n",
    "`mpirun -n 1 build/openQmin.out -l 100`  \n",
    "will run a simulation domain of total size (100x100x100) lattice sites, on a single rank.\n",
    "\n",
    "Moving to two processors, the command:  \n",
    "`mpirun -n 2 build/openQmin.out -l 100`  \n",
    "will run a simulation domain of total size (200x100x100) lattice sites, on two ranks (that\n",
    "is, each rank will control a 100x100x100 domain). \n",
    "\n",
    "Similarly the command:  \n",
    "`mpirun -n 8 build/openQmin.out -l 100`  \n",
    "will run a simulation domain of total size (200x200x200) lattice sites, where each of the\n",
    "eight ranks continues to control a block of 100x100x100 lattice sites."
   ]
  },
  {
   "cell_type": "code",
   "execution_count": null,
   "id": "498e9bf0-7896-46a3-b4d9-bf9211982a27",
   "metadata": {},
   "outputs": [],
   "source": []
  }
 ],
 "metadata": {
  "kernelspec": {
   "display_name": "Python 3 (ipykernel)",
   "language": "python",
   "name": "python3"
  },
  "language_info": {
   "codemirror_mode": {
    "name": "ipython",
    "version": 3
   },
   "file_extension": ".py",
   "mimetype": "text/x-python",
   "name": "python",
   "nbconvert_exporter": "python",
   "pygments_lexer": "ipython3",
   "version": "3.9.9"
  }
 },
 "nbformat": 4,
 "nbformat_minor": 5
}