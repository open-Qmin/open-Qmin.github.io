{
 "cells": [
  {
   "cell_type": "markdown",
   "id": "bfb53419-fbcb-4448-b9df-24bb0fdbb1fe",
   "metadata": {},
   "source": [
    "# Initialization (Python interface)"
   ]
  },
  {
   "cell_type": "markdown",
   "id": "59596db4-7abc-4bd0-8036-f461b0c463af",
   "metadata": {},
   "source": [
    "## Demo for usage of *tools/initHelper.py*\n",
    "\n",
    "One option for initialization of openQmin is to specify the nematic director at each nematic site, storing this information in an initialConfigurationFile that we will import using either the command-line flag\n",
    "\n",
    "    --initialConfigurationFile /path/to/my_init_file\n",
    "    \n",
    "or by clicking *File -> load Configuration* in the GUI. \n",
    "\n",
    "*tools/initHelper.py* is a Python script to automate creation of the initialConfigurationFile, using NumPy to define functions of position \n",
    "as initial conditions for the nematic director field. Supply three strings for the functions \n",
    "giving the *x, y, z* director components, along with \n",
    "system size and nematic degree of order. The script will create an initialConfigurationFile\n",
    "where the Q-tensor has this director field and uniform, \n",
    "uniaxial nematic order."
   ]
  },
  {
   "cell_type": "code",
   "execution_count": 1,
   "id": "19f0deeb-7a4c-4d2c-af5f-c90f3ddf9f09",
   "metadata": {},
   "outputs": [],
   "source": [
    "from sys import path\n",
    "path.append(\"../tools/\")  # <-- replace with your path to initHelper.py\n",
    "\n",
    "from initHelper import create_init_state"
   ]
  },
  {
   "cell_type": "markdown",
   "id": "c274fb8f-4b7a-4142-ad12-5ab5ed8ece99",
   "metadata": {},
   "source": [
    "First let's define the setup and a name (with path) for our initConfigurationFiles. We're using 3 MPI processes for this example, but you can also run it with `mpi_num_processes = 1`. "
   ]
  },
  {
   "cell_type": "code",
   "execution_count": 2,
   "id": "3996000a-d250-40ca-9a6c-4a9527c09bf3",
   "metadata": {},
   "outputs": [],
   "source": [
    "# system size *before* MPI subdivision\n",
    "whole_Lx = 50\n",
    "whole_Ly = 50\n",
    "whole_Lz = 50\n",
    "S = 0.53  # uniaxial order for all sites\n",
    "mpi_num_processes = 3  # set to 1 for non-MPI run\n",
    "# file path, without \".txt\", for initialConfigurationFile(s)\n",
    "initfilename_prefix = \"../my_init_file\""
   ]
  },
  {
   "cell_type": "markdown",
   "id": "5a30fb8c-075b-4e83-ad7c-58682f9cb362",
   "metadata": {},
   "source": [
    "Now we define functions for our director components, formatted as **strings** that will be evaluated as expressions by NumPy. This example creates a cholesteric helix, with pitch equal to the system's $z$-height and pitch axis along the $z$ direction."
   ]
  },
  {
   "cell_type": "code",
   "execution_count": 3,
   "id": "bcf9cb3f-a705-4684-9a90-f6660d6b1de7",
   "metadata": {},
   "outputs": [],
   "source": [
    "# change these to your own functions:\n",
    "nx_function_string = f\"cos(2 * pi * z / {whole_Lz})\"\n",
    "ny_function_string = f\"sin(2 * pi * z / {whole_Lz})\"\n",
    "nz_function_string = \"0\""
   ]
  },
  {
   "cell_type": "markdown",
   "id": "12bf64cb-929b-429f-b8d8-c30f4ab95505",
   "metadata": {},
   "source": [
    "The above example strings illustrate a few important points:\n",
    "\n",
    "* The strings will be evaluated after `from numpy import *`, so you can use any NumPy function (`cos`, `sin`, etc.) and constants such as `pi`.\n",
    "* Using Python f-strings, we can include values of variables (such as `whole_Lz`) in the string.\n",
    "* Coordinates (in this case, `z`) will be transformed to arrays automatically.\n",
    "* Constant values (such as `0` in this case for $n_z$) are allowed."
   ]
  },
  {
   "cell_type": "markdown",
   "id": "8dec0895-8f43-4a3c-b7a5-750bae0874f8",
   "metadata": {},
   "source": [
    "The allowed coordinate variables are:\n",
    "- **Cartesian**: `x`, `y`, `z`.\n",
    "    These are relative to a simulation box corner\n",
    "    and will range over the values [0,Lx-1], [0,Ly-1],\n",
    "    and [0,Lz-1] respectively. \n",
    "- **Cylindrical polar**: `rho`, `phi`, `z`.\n",
    "    These are relative to the center of the bottom face of \n",
    "    the box.\n",
    "- **Spherical polar**: `r_sph`, `theta`, `phi`.\n",
    "    These are relative to the box center, with `r_sph`\n",
    "    in units of lattice spacings.        \n"
   ]
  },
  {
   "cell_type": "markdown",
   "id": "753010a0-ee1d-4fde-a7ab-75c9759821ea",
   "metadata": {},
   "source": [
    "Now we call *initHelper.py*'s function `create_init_state` to generate the initialConfigurationFiles. If using MPI, you'll see that one file is created for each MPI rank."
   ]
  },
  {
   "cell_type": "code",
   "execution_count": 4,
   "id": "7515a451-1beb-435e-973c-976548d849dd",
   "metadata": {},
   "outputs": [
    {
     "ename": "TypeError",
     "evalue": "create_init_state() got multiple values for argument 'mpi_num_processes'",
     "output_type": "error",
     "traceback": [
      "\u001b[0;31m---------------------------------------------------------------------------\u001b[0m",
      "\u001b[0;31mTypeError\u001b[0m                                 Traceback (most recent call last)",
      "\u001b[0;32m/var/folders/pt/1x9c1p2s02ggqr8yh1p00ln40000gn/T/ipykernel_46499/2548133709.py\u001b[0m in \u001b[0;36m<module>\u001b[0;34m\u001b[0m\n\u001b[0;32m----> 1\u001b[0;31m initfilenames = create_init_state(\n\u001b[0m\u001b[1;32m      2\u001b[0m     \u001b[0;34m(\u001b[0m\u001b[0mwhole_Lx\u001b[0m\u001b[0;34m,\u001b[0m \u001b[0mwhole_Ly\u001b[0m\u001b[0;34m,\u001b[0m \u001b[0mwhole_Lz\u001b[0m\u001b[0;34m)\u001b[0m\u001b[0;34m,\u001b[0m\u001b[0;34m\u001b[0m\u001b[0;34m\u001b[0m\u001b[0m\n\u001b[1;32m      3\u001b[0m     \u001b[0mS\u001b[0m\u001b[0;34m,\u001b[0m\u001b[0;34m\u001b[0m\u001b[0;34m\u001b[0m\u001b[0m\n\u001b[1;32m      4\u001b[0m     \u001b[0minitfilename_prefix\u001b[0m\u001b[0;34m,\u001b[0m\u001b[0;34m\u001b[0m\u001b[0;34m\u001b[0m\u001b[0m\n\u001b[1;32m      5\u001b[0m     \u001b[0mnx_function_string\u001b[0m\u001b[0;34m,\u001b[0m\u001b[0;34m\u001b[0m\u001b[0;34m\u001b[0m\u001b[0m\n",
      "\u001b[0;31mTypeError\u001b[0m: create_init_state() got multiple values for argument 'mpi_num_processes'"
     ]
    }
   ],
   "source": [
    "initfilenames = create_init_state(\n",
    "    (whole_Lx, whole_Ly, whole_Lz),\n",
    "    S,\n",
    "    initfilename_prefix,\n",
    "    nx_function_string,\n",
    "    ny_function_string,\n",
    "    nz_function_string,\n",
    "    mpi_num_processes=mpi_num_processes,\n",
    ")\n",
    "print(initfilenames)"
   ]
  },
  {
   "cell_type": "markdown",
   "id": "58bbee99-2363-4245-9246-d39b3c34f92c",
   "metadata": {},
   "source": [
    "Let's take a look at our initial configuration. If you're running this Jupyter notebook locally, you can set `off_screen=False` for more interactivity."
   ]
  },
  {
   "cell_type": "code",
   "execution_count": null,
   "id": "937a774e-1eda-4bd7-8f6f-04040e72c0ba",
   "metadata": {
    "tags": [
     "hide-cell"
    ]
   },
   "outputs": [],
   "source": [
    "# Install openViewMin dependencies as needed\n",
    "!{sys.executable} -m pip install pandas \"PyQt5<5.14\" pyvistaqt tqdm imageio-ffmpeg >> /dev/null"
   ]
  },
  {
   "cell_type": "code",
   "execution_count": null,
   "id": "f850afb3-e5e5-4076-a8df-17e55a7945a6",
   "metadata": {},
   "outputs": [],
   "source": [
    "# replace with your path to openViewMin\n",
    "path.append(\"../../openviewmin/\")\n",
    "\n",
    "import openViewMin\n",
    "\n",
    "nplot = openViewMin.NematicPlot(initfilenames, off_screen=True, window_size=(800, 800))\n",
    "display(nplot.to_pythreejs())\n",
    "nplot.close()"
   ]
  }
 ],
 "metadata": {
  "kernelspec": {
   "display_name": "Python 3 (ipykernel)",
   "language": "python",
   "name": "python3"
  },
  "language_info": {
   "codemirror_mode": {
    "name": "ipython",
    "version": 3
   },
   "file_extension": ".py",
   "mimetype": "text/x-python",
   "name": "python",
   "nbconvert_exporter": "python",
   "pygments_lexer": "ipython3",
   "version": "3.9.9"
  }
 },
 "nbformat": 4,
 "nbformat_minor": 5
}