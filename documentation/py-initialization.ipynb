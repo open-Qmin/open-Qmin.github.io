{
 "cells": [
  {
   "cell_type": "markdown",
   "id": "483c883a",
   "metadata": {},
   "source": [
    "# Initialization (Python interface)"
   ]
  },
  {
   "cell_type": "markdown",
   "id": "81915da6",
   "metadata": {},
   "source": [
    "## Demo for usage of *tools/initHelper.py*\n",
    "\n",
    "One option for initialization of open-Qmin is to specify the nematic director at each nematic site, storing this information in an initialConfigurationFile that we will import using either the command-line flag\n",
    "\n",
    "    --initialConfigurationFile /path/to/my_init_file\n",
    "    \n",
    "or by clicking *File -> load Configuration* in the GUI. \n",
    "\n",
    "*tools/initHelper.py* is a Python script to automate creation of the initialConfigurationFile, using NumPy to define functions of position \n",
    "as initial conditions for the nematic director field. Supply three strings for the functions \n",
    "giving the *x, y, z* director components, along with \n",
    "system size and nematic degree of order. The script will create an initialConfigurationFile\n",
    "where the Q-tensor has this director field and uniform, \n",
    "uniaxial nematic order."
   ]
  },
  {
   "cell_type": "code",
   "execution_count": 1,
   "id": "f740957c",
   "metadata": {},
   "outputs": [],
   "source": [
    "from sys import path\n",
    "path.append(\"../tools/\")  # <-- replace with your path to initHelper.py\n",
    "\n",
    "from initHelper import create_init_state"
   ]
  },
  {
   "cell_type": "markdown",
   "id": "aea9363f",
   "metadata": {},
   "source": [
    "First let's define the setup and a name (with path) for our initConfigurationFiles. We're using 4 MPI processes for this example, but you can also run it with `mpi_num_processes = 1`. "
   ]
  },
  {
   "cell_type": "code",
   "execution_count": 2,
   "id": "03aa54fe",
   "metadata": {},
   "outputs": [],
   "source": [
    "# system size *before* MPI subdivision\n",
    "whole_Lx = 50\n",
    "whole_Ly = 50\n",
    "whole_Lz = 50\n",
    "S = 0.53  # uniaxial order for all sites\n",
    "mpi_num_processes = 4  # set to 1 for non-MPI run\n",
    "# file path, without \".txt\", for initialConfigurationFile(s)\n",
    "initfilename_prefix = \"../my_init_file\""
   ]
  },
  {
   "cell_type": "markdown",
   "id": "54229d24",
   "metadata": {},
   "source": [
    "Now we define functions for our director components, formatted as **strings** that will be evaluated as expressions by NumPy. This example creates a cholesteric helix, with pitch equal to the system's $z$-height and pitch axis along the $z$ direction."
   ]
  },
  {
   "cell_type": "code",
   "execution_count": 3,
   "id": "828e172d",
   "metadata": {},
   "outputs": [],
   "source": [
    "# change these to your own functions:\n",
    "nx_function_string = f\"cos(2 * pi * z / {whole_Lz})\"\n",
    "ny_function_string = f\"sin(2 * pi * z / {whole_Lz})\"\n",
    "nz_function_string = \"0\""
   ]
  },
  {
   "cell_type": "markdown",
   "id": "fc7b3f32",
   "metadata": {},
   "source": [
    "The above example strings illustrate a few important points:\n",
    "\n",
    "* The strings will be evaluated after `from numpy import *`, so you can use any NumPy function (`cos`, `sin`, etc.) and constants such as `pi`.\n",
    "* Using Python f-strings, we can include values of variables (such as `whole_Lz`) in the string.\n",
    "* Coordinates (in this case, `z`) will be transformed to arrays automatically.\n",
    "* Constant values (such as `0` in this case for $n_z$) are allowed."
   ]
  },
  {
   "cell_type": "markdown",
   "id": "8c2fb0f6",
   "metadata": {},
   "source": [
    "The allowed coordinate variables are:\n",
    "- **Cartesian**: `x`, `y`, `z`.\n",
    "    These are relative to a simulation box corner\n",
    "    and will range over the values [0,Lx-1], [0,Ly-1],\n",
    "    and [0,Lz-1] respectively. \n",
    "- **Cylindrical polar**: `rho`, `phi`, `z`.\n",
    "    These are relative to the center of the bottom face of \n",
    "    the box.\n",
    "- **Spherical polar**: `r_sph`, `theta`, `phi`.\n",
    "    These are relative to the box center, with `r_sph`\n",
    "    in units of lattice spacings.        \n"
   ]
  },
  {
   "cell_type": "markdown",
   "id": "ced00565",
   "metadata": {},
   "source": [
    "Now we call *initHelper.py*'s function `create_init_state` to generate the initialConfigurationFiles. If using MPI, you'll see that one file is created for each MPI rank."
   ]
  },
  {
   "cell_type": "code",
   "execution_count": 4,
   "id": "5944e5a1",
   "metadata": {},
   "outputs": [
    {
     "name": "stdout",
     "output_type": "stream",
     "text": [
      "Configuration for process (0,0,0) has been saved to ../my_init_file_x0y0z0.txt.\n",
      "Configuration for process (1,0,0) has been saved to ../my_init_file_x1y0z0.txt.\n",
      "Configuration for process (0,1,0) has been saved to ../my_init_file_x0y1z0.txt.\n",
      "Configuration for process (1,1,0) has been saved to ../my_init_file_x1y1z0.txt.\n",
      "['../my_init_file_x0y0z0.txt', '../my_init_file_x1y0z0.txt', '../my_init_file_x0y1z0.txt', '../my_init_file_x1y1z0.txt']\n"
     ]
    }
   ],
   "source": [
    "initfilenames = create_init_state(\n",
    "    (whole_Lx, whole_Ly, whole_Lz),\n",
    "    S,\n",
    "    initfilename_prefix,\n",
    "    nx_function_string,\n",
    "    ny_function_string,\n",
    "    nz_function_string,\n",
    "    mpi_num_processes=mpi_num_processes,\n",
    ")\n",
    "print(initfilenames)"
   ]
  },
  {
   "cell_type": "markdown",
   "id": "8ec87b2a",
   "metadata": {},
   "source": [
    "Let's take a look at our initial configuration. Here we're using [open-ViewMin](https://open-viewmin.gitlab.io/), a visualization environment under development for use with open-Qmin. This project is publicly available at [https://gitlab.com/open-viewmin/open-viewmin.gitlab.io](https://gitlab.com/open-viewmin/open-viewmin.gitlab.io). Feedback and bug reports will be gratefully received there or at d.a.beller \\[at\\] jhu.edu."
   ]
  },
  {
   "cell_type": "code",
   "execution_count": 6,
   "id": "bc20a299",
   "metadata": {
    "tags": [
     "hide-cell"
    ]
   },
   "outputs": [
    {
     "name": "stdout",
     "output_type": "stream",
     "text": [
      "['../my_init_file_x0y0z0.txt', '../my_init_file_x1y0z0.txt', '../my_init_file_x0y1z0.txt', '../my_init_file_x1y1z0.txt'] -> ../my_init_file.txt\n",
      "Imported ../my_init_file.txt as frame # 0.\n"
     ]
    },
    {
     "name": "stderr",
     "output_type": "stream",
     "text": [
      "qt.qpa.fonts: Populating font family aliases took 302 ms. Replace uses of missing font family \".AppleSystemUIFont\" with one that exists to avoid this cost. \n"
     ]
    }
   ],
   "source": [
    "path.append(\"../../openviewmin/\") # <-- replace with your path to openViewMin\n",
    "\n",
    "import open_viewmin\n",
    "\n",
    "# If you're running this Jupyter notebook locally, you can set `off_screen=False` for more interactivity.\n",
    "nplot = open_viewmin.NematicPlot(initfilenames, off_screen=True, ) #, window_size=(800, 800))\n",
    "nplot.export_html(\"./py-initialization-example.html\")"
   ]
  },
  {
   "cell_type": "code",
   "execution_count": 9,
   "id": "ed62b756-e25d-4e3d-b058-d78d410a2b04",
   "metadata": {},
   "outputs": [
    {
     "ename": "AttributeError",
     "evalue": "NematicPlot has no attribute named notebook",
     "output_type": "error",
     "traceback": [
      "\u001b[0;31m---------------------------------------------------------------------------\u001b[0m",
      "\u001b[0;31mAttributeError\u001b[0m                            Traceback (most recent call last)",
      "Cell \u001b[0;32mIn[9], line 1\u001b[0m\n\u001b[0;32m----> 1\u001b[0m \u001b[43mnplot\u001b[49m\u001b[38;5;241;43m.\u001b[39;49m\u001b[43mshow\u001b[49m\u001b[43m(\u001b[49m\u001b[43m)\u001b[49m\n",
      "File \u001b[0;32m~/micromamba/envs/viewmin/lib/python3.11/site-packages/pyvista/plotting/plotter.py:6930\u001b[0m, in \u001b[0;36mPlotter.show\u001b[0;34m(self, title, window_size, interactive, auto_close, interactive_update, full_screen, screenshot, return_img, cpos, jupyter_backend, return_viewer, return_cpos, before_close_callback, **kwargs)\u001b[0m\n\u001b[1;32m   6925\u001b[0m     warnings\u001b[38;5;241m.\u001b[39mwarn(\n\u001b[1;32m   6926\u001b[0m         \u001b[38;5;124m'\u001b[39m\u001b[38;5;124mNot within a jupyter notebook environment.\u001b[39m\u001b[38;5;130;01m\\n\u001b[39;00m\u001b[38;5;124mIgnoring ``jupyter_backend``.\u001b[39m\u001b[38;5;124m'\u001b[39m,\n\u001b[1;32m   6927\u001b[0m     )\n\u001b[1;32m   6929\u001b[0m jupyter_disp \u001b[38;5;241m=\u001b[39m \u001b[38;5;28;01mNone\u001b[39;00m\n\u001b[0;32m-> 6930\u001b[0m \u001b[38;5;28;01mif\u001b[39;00m \u001b[38;5;28;43mself\u001b[39;49m\u001b[38;5;241;43m.\u001b[39;49m\u001b[43mnotebook\u001b[49m:\n\u001b[1;32m   6931\u001b[0m     \u001b[38;5;28;01mfrom\u001b[39;00m \u001b[38;5;21;01mpyvista\u001b[39;00m\u001b[38;5;21;01m.\u001b[39;00m\u001b[38;5;21;01mjupyter\u001b[39;00m\u001b[38;5;21;01m.\u001b[39;00m\u001b[38;5;21;01mnotebook\u001b[39;00m \u001b[38;5;28;01mimport\u001b[39;00m handle_plotter\n\u001b[1;32m   6933\u001b[0m     \u001b[38;5;28;01mif\u001b[39;00m jupyter_backend \u001b[38;5;129;01mis\u001b[39;00m \u001b[38;5;28;01mNone\u001b[39;00m:\n",
      "File \u001b[0;32m~/micromamba/envs/viewmin/lib/python3.11/site-packages/pyvistaqt/rwi.py:426\u001b[0m, in \u001b[0;36mQVTKRenderWindowInteractor.__getattr__\u001b[0;34m(self, attr)\u001b[0m\n\u001b[1;32m    424\u001b[0m     \u001b[38;5;28;01mreturn\u001b[39;00m \u001b[38;5;28mgetattr\u001b[39m(\u001b[38;5;28mself\u001b[39m\u001b[38;5;241m.\u001b[39m_Iren, attr)\n\u001b[1;32m    425\u001b[0m \u001b[38;5;28;01melse\u001b[39;00m:\n\u001b[0;32m--> 426\u001b[0m     \u001b[38;5;28;01mraise\u001b[39;00m \u001b[38;5;167;01mAttributeError\u001b[39;00m(\u001b[38;5;28mself\u001b[39m\u001b[38;5;241m.\u001b[39m\u001b[38;5;18m__class__\u001b[39m\u001b[38;5;241m.\u001b[39m\u001b[38;5;18m__name__\u001b[39m \u001b[38;5;241m+\u001b[39m\n\u001b[1;32m    427\u001b[0m           \u001b[38;5;124m\"\u001b[39m\u001b[38;5;124m has no attribute named \u001b[39m\u001b[38;5;124m\"\u001b[39m \u001b[38;5;241m+\u001b[39m attr)\n",
      "\u001b[0;31mAttributeError\u001b[0m: NematicPlot has no attribute named notebook"
     ]
    }
   ],
   "source": [
    "nplot.html"
   ]
  },
  {
   "cell_type": "code",
   "execution_count": 18,
   "id": "c2f28e32-fb05-4985-a456-6bd64b782d76",
   "metadata": {},
   "outputs": [
    {
     "data": {
      "text/html": [
       "\n",
       "        <iframe\n",
       "            width=\"400\"\n",
       "            height=\"400\"\n",
       "            src=\"../../py-initialization-example.html?background=gray\"\n",
       "            frameborder=\"0\"\n",
       "            allowfullscreen\n",
       "            \n",
       "        ></iframe>\n",
       "        "
      ],
      "text/plain": [
       "<IPython.lib.display.IFrame at 0x333d5e910>"
      ]
     },
     "execution_count": 18,
     "metadata": {},
     "output_type": "execute_result"
    }
   ],
   "source": [
    "from IPython.display import IFrame\n",
    "IFrame('../../py-initialization-example.html', width=400, height=400, background=\"gray\")\n",
    "# note: delete the \"../../\" in the line above if you run this yourself"
   ]
  }
 ],
 "metadata": {
  "kernelspec": {
   "display_name": "viewmin",
   "language": "python",
   "name": "viewmin"
  },
  "language_info": {
   "codemirror_mode": {
    "name": "ipython",
    "version": 3
   },
   "file_extension": ".py",
   "mimetype": "text/x-python",
   "name": "python",
   "nbconvert_exporter": "python",
   "pygments_lexer": "ipython3",
   "version": "3.11.9"
  }
 },
 "nbformat": 4,
 "nbformat_minor": 5
}
