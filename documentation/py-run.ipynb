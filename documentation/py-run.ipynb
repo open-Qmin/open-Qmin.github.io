{
 "cells": [
  {
   "cell_type": "markdown",
   "id": "0ae47b24-a052-4add-ac75-1358f5f8da96",
   "metadata": {},
   "source": [
    "# Running openQmin (Python interface)"
   ]
  },
  {
   "cell_type": "markdown",
   "id": "423872ca-41f0-478d-b98d-96558344f318",
   "metadata": {},
   "source": [
    "Using *tools/runHelper.py*, you can define command-line parameters through a Python dictionary `runHelper.params`. These, along with any default parameters you didn't change, are converted by `runHelper.get_runcmd()` into a command-line string that calls *build/openQmin.out*.\n",
    "\n",
    "The dictionary keys of `runHelper.params` are the same as the long forms (appearing after the `--`s) of the command-line flags seen when you run `build/openQmin.out --help`, with the following exceptions:\n",
    "* `help` itself is not a key in `runHelper.params`\n",
    "* Parameters `'whole_Lx'`, `'whole_Ly'`, and `'whole_Lz'`, which define the system size **before** subdivision over MPI ranks, override `'Lx'`, `'Ly'`, and `'Lz'` by default. If you want to use `'Lx'`, `'Ly'`, `'Lz'` instead (which give the system size on each rank), you can pass `do_partition=False` to `runHelper.get_runcmd()`.\n",
    "\n",
    "In the example below, we'll make use of an example boundaryFile that we created in the page on [Boundary conditions (Python interface)](py-boundaries) and the example initialConfigurationFiles that we created in the page on [Initialization (Python interface)](py-initialization). \n",
    "\n",
    "Notice that the main openQmin directory path, assigned to `runHelper.directory`, is automatically prepended to the filepaths for imported and exported data. This directory path should be either an absolute path or relative to where you'll be running the command."
   ]
  },
  {
   "cell_type": "code",
   "execution_count": null,
   "id": "c73992a3-a776-4042-a896-b9708c6a29de",
   "metadata": {},
   "outputs": [],
   "source": [
    "from sys import path\n",
    "path.append(\"../tools/\")  # path to runHelper.py\n",
    "\n",
    "import runHelper\n",
    "\n",
    "runHelper.directory = \"../\" # path to openQmin main directory\n",
    "runHelper.mpi_num_processes = 3  # set to 1 for non-MPI run\n",
    "\n",
    "runHelper.params[\"boundaryFile\"] = \"ceiling_and_wavy_floor.txt\"\n",
    "runHelper.params[\"initialConfigurationFile\"] = \"my_init_file\"\n",
    "\n",
    "# choose a location and filename-prefix for this run's results\n",
    "runHelper.params[\"saveFile\"] = \"data/my_example_run\"\n",
    "runHelper.params[\"iterations\"] = 500  # max number of minimization timesteps\n",
    "\n",
    "# system size BEFORE subdivision across MPI ranks:\n",
    "runHelper.params[\"whole_Lx\"] = 50\n",
    "runHelper.params[\"whole_Ly\"] = 50\n",
    "runHelper.params[\"whole_Lz\"] = 50\n",
    "\n",
    "runcmd = runHelper.get_runcmd()  # generate command-line string\n",
    "print(runcmd)"
   ]
  },
  {
   "cell_type": "markdown",
   "id": "d8ea4d35-1c67-4463-abeb-c59bffe1e3cf",
   "metadata": {},
   "source": [
    "We can run openQmin with these options by any of the following routes:\n",
    "\n",
    "* Call `runHelper.run()`, which executes the result of `runHelper.get_runcmd()`\n",
    "* Copy and paste the string into a terminal\n",
    "* Use the `runcmd` string in a Python script via `import os; os.system(runcmd)`\n",
    "* Run as shell command in a Jupyter notebook with `!{runcmd}`"
   ]
  },
  {
   "cell_type": "code",
   "execution_count": null,
   "id": "6d7caec9-7d2e-4a9f-9397-9cc5c1f3b7e7",
   "metadata": {},
   "outputs": [],
   "source": [
    "runHelper.run()"
   ]
  },
  {
   "cell_type": "markdown",
   "id": "9a6ab513-7599-4b7f-a367-f2bc97189eea",
   "metadata": {},
   "source": [
    "Let's take a look at the result using openViewMin."
   ]
  },
  {
   "cell_type": "code",
   "execution_count": null,
   "id": "659edfbe-2987-4286-8cad-be5c1a7be64a",
   "metadata": {
    "tags": [
     "hide-cell"
    ]
   },
   "outputs": [],
   "source": [
    "# Install openViewMin dependencies as needed\n",
    "!{sys.executable} -m pip install pandas \"PyQt5<5.14\" pyvistaqt tqdm imageio-ffmpeg >> /dev/null"
   ]
  },
  {
   "cell_type": "code",
   "execution_count": null,
   "id": "71c6c845-9594-47cb-a7f1-770c03acf6fe",
   "metadata": {},
   "outputs": [],
   "source": [
    "# replace with your path to openViewMin:\n",
    "sys.path.append(\"../../openviewmin/\")\n",
    "\n",
    "import openViewMin\n",
    "import glob\n",
    "\n",
    "# collect all files from this run\n",
    "savedFiles = glob.glob(\"../data/my_example_run*\") \n",
    "# generate plot off-screen\n",
    "nplot = openViewMin.NematicPlot(savedFiles, off_screen=True, window_size=(800, 800))\n",
    "# rotate plane of director glyphs to y-normal\n",
    "nplot.update_filter(\"director_plane\", {\"normal\":[0,1,0]}, update_self_actor=True)\n",
    "# reduce lighting intensity a bit\n",
    "nplot.set_lights_intensity(0.6)\n",
    "# display in notebook\n",
    "display(nplot.to_pythreejs())\n",
    "nplot.close()"
   ]
  }
 ],
 "metadata": {
  "kernelspec": {
   "display_name": "Python 3 (ipykernel)",
   "language": "python",
   "name": "python3"
  },
  "language_info": {
   "codemirror_mode": {
    "name": "ipython",
    "version": 3
   },
   "file_extension": ".py",
   "mimetype": "text/x-python",
   "name": "python",
   "nbconvert_exporter": "python",
   "pygments_lexer": "ipython3",
   "version": "3.9.9"
  }
 },
 "nbformat": 4,
 "nbformat_minor": 5
}
